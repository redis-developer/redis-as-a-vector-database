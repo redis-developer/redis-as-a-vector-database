{
 "cells": [
  {
   "cell_type": "markdown",
   "id": "11c51aa6-d5bd-4bb5-b710-8eb8b2d67351",
   "metadata": {},
   "source": [
    "### Working with Vector Embeddings\n",
    "\n",
    "Semantic Search is quickly becoming the norm when looking for contextually rich content across vast amounts of data. Vector embeddings, a method of mathematically representing data points about an object as an array of floats, are compared with each other to discover similarity distances. \n",
    "\n",
    "In this tutorial we'll go through several processes to prepare you to integrate vector embeddings into your application's search capabilities. This codebase is in support of the video [Redis as a Vector Database](https://youtube.com/tbd). The full repository may be found [here](https://github.com/redis-developer/redis-as-a-vector-database.git). To learn more about Vector Databases in Redis, check out our full documentation here or try the Redis University course RU204:Redis as a Vector Database.\n",
    "\n",
    "\n",
    "- Select a model for embedding existing data fields and query text\n",
    "- Convert a text field into a vector embedding\n",
    "- Store a vector embedding in a JSON object in Redis\n",
    "- Create an index for vector search over JSON objects stored in Redis\n",
    "- Prepare and execute query for vector search\n",
    "\n",
    "The database contains approximately 15,000 JSON objects, each representing a science fiction or fantasy book. The description text will be converted into a vector embedding and used for our query examples. Here is an example of a typical JSON book object:\n",
    "\n",
    "``` json\n",
    "{\n",
    "  \"title\": \"Fire In His Spirit\",  \n",
    "  \"author\": \"Ruby Dixon\",  \n",
    "  \"score\": \"3.94\",  \n",
    "  \"votes\": \"2754\",  \n",
    "  \"description\": \"Gwen’s never wanted to be a leader, but when no one else stepped up, she took on the role. As the mayor of post-apocalyptic Shreveport, she’s made decisions to protect her people... and most of them have backfired disastrously. When she discovers that the dangerous gold dragon lurking outside of the fort has decided she’s his mate, heartsick Gwen thinks that the best thing she can do is confront him and take him far away from the city. She does this to save her people - her sister, her friends, her fort. She doesn’t expect to understand the dragon. She certainly doesn’t expect to fall in love.\",\n",
    "  \"year_published\": \"2018\",  \n",
    "  \"url\": \"http://www.goodreads.com/book/show/40790825-fire-in-his-spirit\",  \n",
    "  \"genres\":[\"Romance\",\"Fantasy (Dragons)\",\"Fantasy\",\"Romance (Paranormal Romance)\",\"Fantasy (Paranormal)\",\"Science Fiction\",\"Paranormal (Shapeshifters)\",\"Science Fiction (Aliens)\",\"Science Fiction (Dystopia)\",\"Apocalyptic (Post Apocalyptic)\"],  \n",
    "  \"editions\": [\"English\", \"Japanese\", \"Arabic\", \"French\"],  \n",
    "  \"pages\": 241\n",
    "}\n",
    "```"
   ]
  },
  {
   "cell_type": "markdown",
   "id": "dcefc655-ef34-4ec8-a4f0-b985814db558",
   "metadata": {},
   "source": [
    "### 1. Set a model for embedding\n",
    "We will be using the [all-MiniLM-L6-v2](https://huggingface.co/sentence-transformers/all-MiniLM-L6-v2) sentence transformer for embedding our book descriptions. Let's fetch and set the model for our embeddings."
   ]
  },
  {
   "cell_type": "code",
   "execution_count": 2,
   "id": "6ea69122-be79-4bde-a35f-ddd74e0bb7a5",
   "metadata": {},
   "outputs": [],
   "source": [
    "# Import sentence transformers and set \"all-MiniLM-L6-v2\" as the pretrained model to use\n",
    "from sentence_transformers import SentenceTransformer\n",
    "model_name = \"all-MiniLM-L6-v2\"\n",
    "model = SentenceTransformer(model_name)\n"
   ]
  },
  {
   "cell_type": "markdown",
   "id": "c41a9414-04ae-4314-b8a1-998d12c060bc",
   "metadata": {},
   "source": [
    "### 2. Convert a text field within a JSON object into a vector embedding\n",
    "We'll use the above JSON book object to convert the text description to a vector embedding."
   ]
  },
  {
   "cell_type": "code",
   "execution_count": 3,
   "id": "963e4e14-bf15-4a46-a4fb-4fb43c68689a",
   "metadata": {},
   "outputs": [],
   "source": [
    "# convert the description text to a vector\n",
    "book = {\n",
    "  \"title\": \"Fire In His Spirit\",  \n",
    "  \"author\": \"Ruby Dixon\",  \n",
    "  \"score\": \"3.94\",  \n",
    "  \"votes\": \"2754\",  \n",
    "  \"description\": \"Gwen’s never wanted to be a leader, but when no one else stepped up, she took on the role. As the mayor of post-apocalyptic Shreveport, she’s made decisions to protect her people... and most of them have backfired disastrously. When she discovers that the dangerous gold dragon lurking outside of the fort has decided she’s his mate, heartsick Gwen thinks that the best thing she can do is confront him and take him far away from the city. She does this to save her people - her sister, her friends, her fort. She doesn’t expect to understand the dragon. She certainly doesn’t expect to fall in love.\",\n",
    "  \"year_published\": \"2018\",  \n",
    "  \"url\": \"http://www.goodreads.com/book/show/40790825-fire-in-his-spirit\",  \n",
    "  \"genres\":[\"Romance\",\"Fantasy (Dragons)\",\"Fantasy\",\"Romance (Paranormal Romance)\",\"Fantasy (Paranormal)\",\"Science Fiction\",\"Paranormal (Shapeshifters)\",\"Science Fiction (Aliens)\",\"Science Fiction (Dystopia)\",\"Apocalyptic (Post Apocalyptic)\"],  \n",
    "  \"editions\": [\"English\", \"Japanese\", \"Arabic\", \"French\"],  \n",
    "  \"pages\": 241\n",
    "}\n",
    "\n",
    "book_description = book[\"description\"]\n",
    "embedding = model.encode(book_description).tolist()\n",
    "book[\"embedding\"] = embedding\n"
   ]
  },
  {
   "cell_type": "markdown",
   "id": "b6f817bc-8c07-49d9-a736-5d2278884e85",
   "metadata": {},
   "source": [
    "### 3. Create a schema for indexing JSON objects\n",
    "We'll be using the [RedisVL](https://www.redisvl.com/index.html) client library to add the above book object to our Redis Vector Database. Let's create a search index before we insert our object. This will require defining a schema of the JSON field names we want to monitor as well as the associated data type. This dictates how we will search our data."
   ]
  },
  {
   "cell_type": "code",
   "execution_count": 4,
   "id": "45c91b69-1b76-43e3-a25d-6ab132cfb24e",
   "metadata": {},
   "outputs": [],
   "source": [
    "# Import RedisVL client library\n",
    "from redisvl.index import SearchIndex\n",
    "from redisvl.query import VectorQuery\n",
    "from redisvl.query.filter import Tag, Num\n"
   ]
  },
  {
   "cell_type": "code",
   "execution_count": 5,
   "id": "14c37bbb-1995-4c48-8d11-116ceb423c47",
   "metadata": {},
   "outputs": [],
   "source": [
    "# Create schema for indexing JSON book objects\n",
    "schema = {\n",
    "    \"index\": {\n",
    "        \"name\": \"book_index\",\n",
    "        \"prefix\": \"book\",\n",
    "        \"storage_type\": \"json\",\n",
    "    },\n",
    "    \"fields\": {\n",
    "        \"tag\": [\n",
    "            {\"name\": \"id\"},\n",
    "            {\"name\": \"$.editions[*]\", \"as_name\" : \"editions\"},\n",
    "            {\"name\": \"$.genres[*]\", \"as_name\" : \"genres\"},\n",
    "        ],\n",
    "        \"text\": [\n",
    "            {\"name\": \"$.author\", \"as_name\" : \"author\"},\n",
    "            {\"name\": \"$.description\", \"as_name\": \"description\"},\n",
    "            {\"name\": \"$.title\", \"as_name\" : \"title\"},\n",
    "        ],\n",
    "        \"numeric\": [\n",
    "            {\"name\": \"pages\"},\n",
    "            {\"name\": \"year_published\"},\n",
    "            {\"name\": \"$.votes\", \"as_name\" : \"votes\"},\n",
    "            {\"name\": \"$.score\", \"as_name\" : \"score\"}\n",
    "        ],\n",
    "        \"vector\": [{\n",
    "            \"name\": \"$.embedding\",\n",
    "            \"as_name\": \"embedding\",\n",
    "            \"dims\": 384,\n",
    "            \"distance_metric\": \"cosine\",\n",
    "            \"algorithm\": \"flat\",\n",
    "            \"datatype\": \"float32\"\n",
    "        }]\n",
    "    },\n",
    "}\n",
    "      "
   ]
  },
  {
   "cell_type": "code",
   "execution_count": 6,
   "id": "d2e5f5b3-4816-42b0-8ae7-0e57d83e9e39",
   "metadata": {},
   "outputs": [
    {
     "name": "stdout",
     "output_type": "stream",
     "text": [
      "Index already exists, not overwriting.\n"
     ]
    }
   ],
   "source": [
    "# Create a Vector Index with RedisVL\n",
    "index = SearchIndex.from_dict(\n",
    "    schema, \n",
    "    redis_url=\"redis://localhost:6379\"\n",
    ")\n",
    "index.create(overwrite=False)"
   ]
  },
  {
   "cell_type": "markdown",
   "id": "e3155ff1-b9ae-4ba7-b619-ca9d449e76a3",
   "metadata": {},
   "source": [
    "### Adding a JSON object with a Vector Embedding to Redis\n",
    "Now that the book_index search index has been created, adding new JSON objects to the database will also have them indexed for search. Note that the .load() function accepts an array of objects as an argument. We'll output the new entry's key to verify success."
   ]
  },
  {
   "cell_type": "code",
   "execution_count": 7,
   "id": "2bf1a191-64cd-432a-8f0b-06f726f78296",
   "metadata": {},
   "outputs": [
    {
     "name": "stdout",
     "output_type": "stream",
     "text": [
      "['book:b62beb01439747ae8a875445b4fc8d90']\n"
     ]
    }
   ],
   "source": [
    "new_book = [book]\n",
    "new_book_key = index.load(new_book)\n",
    "\n",
    "print(new_book_key)"
   ]
  },
  {
   "cell_type": "markdown",
   "id": "b076e844-f66b-40f4-882a-fe55459753d5",
   "metadata": {},
   "source": [
    "### Prepare a query embedding for semantic search\n",
    "Now that we've seen how to add a JSON object with a vector embedding into Redis, lets switch to querying our database for results. We will need to convert our query text into an embedding. The approach is similar to our operations on the book description above. We'll output the vector embedding length to verify success."
   ]
  },
  {
   "cell_type": "code",
   "execution_count": 24,
   "id": "6d7431e9-135a-4bea-ab04-dc98d0ffc8f5",
   "metadata": {},
   "outputs": [
    {
     "name": "stdout",
     "output_type": "stream",
     "text": [
      "384\n"
     ]
    }
   ],
   "source": [
    "# Prepare query text as an embedding\n",
    "query_text = \"Dinosaurs are still alive on Earth.\"\n",
    "# tag_filter = Tag(\"genre\") == \"Science Fiction\"\n",
    "\n",
    "embedding_query = model.encode(query_text).tolist()\n",
    "print(len(embedding_query))"
   ]
  },
  {
   "cell_type": "markdown",
   "id": "2224d8b7-b9cd-41f9-b4c2-bdc48f60c8ab",
   "metadata": {},
   "source": [
    "### Create the query object\n",
    "We will create a VectorQuery object in RedisVL which requires the query vector, what vector field to search (embedding), what fields to return, and the total number of results."
   ]
  },
  {
   "cell_type": "code",
   "execution_count": 25,
   "id": "525e4ed6-9777-4059-b470-db384d6c3eb4",
   "metadata": {},
   "outputs": [],
   "source": [
    "# Create a Vector Query Search object with RedisVL. Return the top three results with title, description, and vector distance\n",
    "query = VectorQuery(\n",
    "    vector = embedding_query,\n",
    "    vector_field_name = \"embedding\",\n",
    "    return_fields=[\"author\",\"title\", \"description\", \"genres\"],\n",
    "    dialect=3,\n",
    "    num_results=3\n",
    ")"
   ]
  },
  {
   "cell_type": "markdown",
   "id": "ba937420-d74b-408e-bd9f-6bce2885edda",
   "metadata": {},
   "source": [
    "### Execute the Vector Query\n",
    "We run the query function with the VectorQuery object passed in as a parameter. We receive 3 results with our requested fields. Note the included `vector_distance` field. A lower distance represents a closer similarity to the original search query. A higher distance represents less similarity."
   ]
  },
  {
   "cell_type": "code",
   "execution_count": 26,
   "id": "b90f50c6-09c4-41c0-927f-6d54f7d9ec29",
   "metadata": {},
   "outputs": [
    {
     "name": "stdout",
     "output_type": "stream",
     "text": [
      "[ { 'author': '[\"Michael Crichton\"]',\n",
      "    'description': '[\"It is now six years since the secret disaster at '\n",
      "                   'Jurassic Park, six years since the extraordinary dream of '\n",
      "                   'science and imagination came to a crashing end – the '\n",
      "                   'dinosaurs destroyed, the park dismantled, the island '\n",
      "                   'indefinitely closed to the public.There are rumors that '\n",
      "                   'something has survived....\"]',\n",
      "    'genres': '[\"Fiction\",\"Science '\n",
      "              'Fiction\",\"Thriller\",\"Adventure\",\"Fantasy\",\"Horror\",\"Animals '\n",
      "              '(Dinosaurs)\",\"Science Fiction Fantasy\",\"Novels\",\"Suspense\"]',\n",
      "    'id': 'book:1bb3ef74ff1a4ff6a1f0845a740ed6d8',\n",
      "    'title': '[\"The Lost World\"]',\n",
      "    'vector_distance': '0.422378242016'},\n",
      "  { 'author': '[\"Harry Harrison\"]',\n",
      "    'description': '[\"Sixty-five million years ago, a disastrous cataclysm '\n",
      "                   'eliminated three quarters of all life on Earth. Overnight, '\n",
      "                   'the age of dinosaurs ended. The age of mammals had '\n",
      "                   'begun.But what if history had happened differently? What '\n",
      "                   'if the reptiles had survived to evolve intelligent life?In '\n",
      "                   'West of Eden, bestselling author Harry Harrison has '\n",
      "                   'created a rich, dramatic saga of a world where the '\n",
      "                   'descendents of the dinosaurs struggled with a clan of '\n",
      "                   'humans in a battle for survival.Here is the story of '\n",
      "                   'Kerrick, a young hunter who grows to manhood among the '\n",
      "                   'dinosaurs, escaping at last to rejoin his own kind. His '\n",
      "                   \"knowledge of their strange customs makes him the humans' \"\n",
      "                   \"leader...and the dinosaurs' greatest enemy.Rivalling Frank \"\n",
      "                   \"Herbert's Dune in the majesty of its scope and conception, \"\n",
      "                   'West of Eden is a monumental epic of love and savagery, '\n",
      "                   'bravery and hope.\"]',\n",
      "    'genres': '[\"Science Fiction\",\"Fantasy\",\"Fiction\",\"Science Fiction '\n",
      "              '(Alternate History)\",\"Animals (Dinosaurs)\",\"Science Fiction '\n",
      "              'Fantasy\",\"Adventure\",\"Historical (Historical '\n",
      "              'Fiction)\",\"Literature (American)\",\"Speculative Fiction\"]',\n",
      "    'id': 'book:fb65d07fc4b54f3f99453c6febed25eb',\n",
      "    'title': '[\"West of Eden\"]',\n",
      "    'vector_distance': '0.466888904572'},\n",
      "  { 'author': '[\"Robert J. Sawyer\"]',\n",
      "    'description': '[\"Archaeologist Brandon Thackery and his rival Miles '\n",
      "                   \"'Klicks' Jordan fulfill a dinosaur lover's dream with \"\n",
      "                   \"history's first time-travel jaunt to the late Mesozoic. \"\n",
      "                   \"Hoping to solve the extinction mystery, they find Earth's \"\n",
      "                   'gravity is only half its 21st century value and dinosaurs '\n",
      "                   'that behave very strangely. Could the slimey blue '\n",
      "                   'creatures from Mars have something to do with both?\"]',\n",
      "    'genres': '[\"Science Fiction\",\"Science Fiction (Time '\n",
      "              'Travel)\",\"Fiction\",\"Animals (Dinosaurs)\",\"Fantasy\",\"Cultural '\n",
      "              '(Canada)\",\"Adventure\",\"Novels\",\"Science Fiction '\n",
      "              '(Aliens)\",\"Audiobook\"]',\n",
      "    'id': 'book:5e7a8762e51b434e8e4891261e6c2440',\n",
      "    'title': '[\"End of an Era\"]',\n",
      "    'vector_distance': '0.494261801243'}]\n"
     ]
    }
   ],
   "source": [
    "# Execute the Vector Query\n",
    "import pprint\n",
    "pp = pprint.PrettyPrinter(indent=2)\n",
    "\n",
    "results = index.query(query)\n",
    "pp.pprint(results)"
   ]
  },
  {
   "cell_type": "markdown",
   "id": "3cd9456d-1793-4dc4-8744-4e8f087b2e47",
   "metadata": {},
   "source": [
    "### Filtered Searches\n",
    "We've received some great results, all wtih a woman as a lead character and dragons! Let's enhance our search by adding a filter. We can request only results that have the `Science Fiction` tag in the genres array and no mention of `Fantasy`."
   ]
  },
  {
   "cell_type": "code",
   "execution_count": 27,
   "id": "5e59375c-e77d-4294-b877-ae25edc404fb",
   "metadata": {},
   "outputs": [
    {
     "name": "stdout",
     "output_type": "stream",
     "text": [
      "[ { 'author': '[\"Michael Crichton\"]',\n",
      "    'description': '[\"It is now six years since the secret disaster at '\n",
      "                   'Jurassic Park, six years since the extraordinary dream of '\n",
      "                   'science and imagination came to a crashing end – the '\n",
      "                   'dinosaurs destroyed, the park dismantled, the island '\n",
      "                   'indefinitely closed to the public.There are rumors that '\n",
      "                   'something has survived....\"]',\n",
      "    'genres': '[\"Fiction\",\"Science '\n",
      "              'Fiction\",\"Thriller\",\"Adventure\",\"Fantasy\",\"Horror\",\"Animals '\n",
      "              '(Dinosaurs)\",\"Science Fiction Fantasy\",\"Novels\",\"Suspense\"]',\n",
      "    'id': 'book:1bb3ef74ff1a4ff6a1f0845a740ed6d8',\n",
      "    'pages': '[2074]',\n",
      "    'title': '[\"The Lost World\"]',\n",
      "    'vector_distance': '0.422378242016'},\n",
      "  { 'author': '[\"Harry Harrison\"]',\n",
      "    'description': '[\"Sixty-five million years ago, a disastrous cataclysm '\n",
      "                   'eliminated three quarters of all life on Earth. Overnight, '\n",
      "                   'the age of dinosaurs ended. The age of mammals had '\n",
      "                   'begun.But what if history had happened differently? What '\n",
      "                   'if the reptiles had survived to evolve intelligent life?In '\n",
      "                   'West of Eden, bestselling author Harry Harrison has '\n",
      "                   'created a rich, dramatic saga of a world where the '\n",
      "                   'descendents of the dinosaurs struggled with a clan of '\n",
      "                   'humans in a battle for survival.Here is the story of '\n",
      "                   'Kerrick, a young hunter who grows to manhood among the '\n",
      "                   'dinosaurs, escaping at last to rejoin his own kind. His '\n",
      "                   \"knowledge of their strange customs makes him the humans' \"\n",
      "                   \"leader...and the dinosaurs' greatest enemy.Rivalling Frank \"\n",
      "                   \"Herbert's Dune in the majesty of its scope and conception, \"\n",
      "                   'West of Eden is a monumental epic of love and savagery, '\n",
      "                   'bravery and hope.\"]',\n",
      "    'genres': '[\"Science Fiction\",\"Fantasy\",\"Fiction\",\"Science Fiction '\n",
      "              '(Alternate History)\",\"Animals (Dinosaurs)\",\"Science Fiction '\n",
      "              'Fantasy\",\"Adventure\",\"Historical (Historical '\n",
      "              'Fiction)\",\"Literature (American)\",\"Speculative Fiction\"]',\n",
      "    'id': 'book:fb65d07fc4b54f3f99453c6febed25eb',\n",
      "    'pages': '[766]',\n",
      "    'title': '[\"West of Eden\"]',\n",
      "    'vector_distance': '0.466888904572'},\n",
      "  { 'author': '[\"Robert J. Sawyer\"]',\n",
      "    'description': '[\"Archaeologist Brandon Thackery and his rival Miles '\n",
      "                   \"'Klicks' Jordan fulfill a dinosaur lover's dream with \"\n",
      "                   \"history's first time-travel jaunt to the late Mesozoic. \"\n",
      "                   \"Hoping to solve the extinction mystery, they find Earth's \"\n",
      "                   'gravity is only half its 21st century value and dinosaurs '\n",
      "                   'that behave very strangely. Could the slimey blue '\n",
      "                   'creatures from Mars have something to do with both?\"]',\n",
      "    'genres': '[\"Science Fiction\",\"Science Fiction (Time '\n",
      "              'Travel)\",\"Fiction\",\"Animals (Dinosaurs)\",\"Fantasy\",\"Cultural '\n",
      "              '(Canada)\",\"Adventure\",\"Novels\",\"Science Fiction '\n",
      "              '(Aliens)\",\"Audiobook\"]',\n",
      "    'id': 'book:5e7a8762e51b434e8e4891261e6c2440',\n",
      "    'pages': '[1463]',\n",
      "    'title': '[\"End of an Era\"]',\n",
      "    'vector_distance': '0.494261801243'}]\n"
     ]
    }
   ],
   "source": [
    "science_tag = Tag(\"genres\") == \"Science Fiction\"\n",
    "no_romance = Tag(\"genres\") != \"Romance\"\n",
    "page_count = Num(\"genres\") <= 400\n",
    "\n",
    "tag_filter = science_tag & no_romance\n",
    "\n",
    "query = VectorQuery(\n",
    "    vector = embedding_query,\n",
    "    vector_field_name = \"embedding\",\n",
    "    filter_expression = tag_filter,\n",
    "    return_fields=[\"author\",\"title\", \"description\", \"genres\", \"pages\"],\n",
    "    dialect=3,\n",
    "    num_results=3\n",
    ")\n",
    "\n",
    "results = index.query(query)\n",
    "pp.pprint(results)\n"
   ]
  }
 ],
 "metadata": {
  "kernelspec": {
   "display_name": "Python 3 (ipykernel)",
   "language": "python",
   "name": "python3"
  },
  "language_info": {
   "codemirror_mode": {
    "name": "ipython",
    "version": 3
   },
   "file_extension": ".py",
   "mimetype": "text/x-python",
   "name": "python",
   "nbconvert_exporter": "python",
   "pygments_lexer": "ipython3",
   "version": "3.9.18"
  }
 },
 "nbformat": 4,
 "nbformat_minor": 5
}
