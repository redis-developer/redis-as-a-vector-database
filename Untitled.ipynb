{
 "cells": [
  {
   "cell_type": "code",
   "execution_count": 1,
   "id": "b4e87b71-1e3e-460b-a695-07c96245eb4b",
   "metadata": {},
   "outputs": [],
   "source": [
    "import json"
   ]
  },
  {
   "cell_type": "code",
   "execution_count": 2,
   "id": "32cbe621-2333-43b6-9b74-5839ba8ed42e",
   "metadata": {},
   "outputs": [],
   "source": [
    "genres = '{\"Fantasy (Urban Fantasy) \": 715, \"Fantasy\": 515, \"Fantasy (Paranormal) \": 233, \"Paranormal (Vampires) \": 137, \"Mystery\": 105, \"Fiction\": 92, \"Fantasy (Magic) \": 82, \"Paranormal (Demons) \": 81, \"Romance\": 81, \"Shapeshifters (Werewolves) \": 69}'"
   ]
  },
  {
   "cell_type": "code",
   "execution_count": 3,
   "id": "973fdd6e-4fe1-489a-a596-d3fd0a1558c1",
   "metadata": {},
   "outputs": [],
   "source": [
    "genres = json.loads(genres)"
   ]
  },
  {
   "cell_type": "code",
   "execution_count": 4,
   "id": "1f5ca013-68d1-47d0-872b-1614d4814815",
   "metadata": {},
   "outputs": [],
   "source": [
    "genres = list(genres.keys())"
   ]
  },
  {
   "cell_type": "code",
   "execution_count": 5,
   "id": "74f8b701-036b-4116-938c-572ca76d713f",
   "metadata": {},
   "outputs": [
    {
     "name": "stdout",
     "output_type": "stream",
     "text": [
      "['Fantasy (Urban Fantasy) ', 'Fantasy', 'Fantasy (Paranormal) ', 'Paranormal (Vampires) ', 'Mystery', 'Fiction', 'Fantasy (Magic) ', 'Paranormal (Demons) ', 'Romance', 'Shapeshifters (Werewolves) ']\n"
     ]
    }
   ],
   "source": [
    "print(genres)"
   ]
  },
  {
   "cell_type": "code",
   "execution_count": 6,
   "id": "bafb7425-d188-4b18-9dc2-4c3e1b64b0f0",
   "metadata": {},
   "outputs": [
    {
     "name": "stdout",
     "output_type": "stream",
     "text": [
      "[1, 2, 3]\n"
     ]
    }
   ],
   "source": [
    "mydict = {1: 'Geeks', 2: 'for', 3: 'geeks'}\n",
    "keysList = list(mydict.keys())\n",
    "print(keysList)"
   ]
  },
  {
   "cell_type": "code",
   "execution_count": 7,
   "id": "bc4cb8af-3ab9-4a7f-9cf2-eae76a3e0b98",
   "metadata": {},
   "outputs": [
    {
     "name": "stdout",
     "output_type": "stream",
     "text": [
      "['English', 'Italian', 'Spanish']\n"
     ]
    }
   ],
   "source": [
    "import random\n",
    "languages = ['Spanish', 'French', 'German', 'Chinese', 'Japanese', 'Arabic', 'Russian', 'Italian']\n",
    "\n",
    "# Generate a random array of 4 languages\n",
    "random_languages = random.sample(languages, random.randint(0, 8))\n",
    "random_languages.insert(0, 'English')\n",
    "print(random_languages)"
   ]
  },
  {
   "cell_type": "code",
   "execution_count": null,
   "id": "84f11f75-c93f-4440-bc9e-1849a7fc1e1b",
   "metadata": {},
   "outputs": [],
   "source": []
  }
 ],
 "metadata": {
  "kernelspec": {
   "display_name": "Python 3 (ipykernel)",
   "language": "python",
   "name": "python3"
  },
  "language_info": {
   "codemirror_mode": {
    "name": "ipython",
    "version": 3
   },
   "file_extension": ".py",
   "mimetype": "text/x-python",
   "name": "python",
   "nbconvert_exporter": "python",
   "pygments_lexer": "ipython3",
   "version": "3.9.18"
  }
 },
 "nbformat": 4,
 "nbformat_minor": 5
}
