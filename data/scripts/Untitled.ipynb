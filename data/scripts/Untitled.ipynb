{
 "cells": [
  {
   "cell_type": "markdown",
   "id": "11c51aa6-d5bd-4bb5-b710-8eb8b2d67351",
   "metadata": {},
   "source": [
    "### Working with Vector Embeddings\n",
    "\n",
    "In this tutorial we'll go through several processes to prepare you to integrate vector embeddings into your application's search capabilities. We will cover the following actions:\n",
    "- 1. select a model for embedding existing data fields and query text\n",
    "- 2. convert a text field within a JSON object into a vector embedding\n",
    "- 3. store a vector embedding in a JSON object in Redis\n",
    "- create an index for vector search over a large database of JSON objects\n",
    "- create a query vector embedding to search\n",
    "- perform a vector search on a Redis Vector Database\n",
    "\n",
    "This codebase is in support of the video [Redis as a Vector Database](https://youtube.com/tbd). The full repository may be found [here](https://github.com/redis-developer/redis-as-a-vector-database.git).\n",
    "\n",
    "The database contains approximately 10,000 JSON objects, each representing a science fiction or fantasy book. The description text will be converted into a vector embedding and used for our query examples. Here is an example of a typical JSON book object:\n",
    "\n",
    "``` json\n",
    "{\n",
    "  \"title\": \"Fire In His Spirit\",  \n",
    "  \"author\": \"Ruby Dixon\",  \n",
    "  \"score\": \"3.94\",  \n",
    "  \"votes\": \"2754\",  \n",
    "  \"description\": \"Gwen’s never wanted to be a leader, but when no one else stepped up, she took on the role. As the mayor of post-apocalyptic Shreveport, she’s made decisions to protect her people... and most of them have backfired disastrously. When she discovers that the dangerous gold dragon lurking outside of the fort has decided she’s his mate, heartsick Gwen thinks that the best thing she can do is confront him and take him far away from the city. She does this to save her people - her sister, her friends, her fort. She doesn’t expect to understand the dragon. She certainly doesn’t expect to fall in love.\",\n",
    "  \"year_published\": \"2018\",  \n",
    "  \"url\": \"http://www.goodreads.com/book/show/40790825-fire-in-his-spirit\",  \n",
    "  \"genres\":[\"Romance\",\"Fantasy (Dragons)\",\"Fantasy\",\"Romance (Paranormal Romance)\",\"Fantasy (Paranormal)\",\"Science Fiction\",\"Paranormal (Shapeshifters)\",\"Science Fiction (Aliens)\",\"Science Fiction (Dystopia)\",\"Apocalyptic (Post Apocalyptic)\"],  \n",
    "  \"editions\": [\"English\", \"Japanese\", \"Arabic\", \"French\"],  \n",
    "  \"pages\": 241\n",
    "}\n",
    "```"
   ]
  },
  {
   "cell_type": "markdown",
   "id": "dcefc655-ef34-4ec8-a4f0-b985814db558",
   "metadata": {},
   "source": [
    "### 1. Set a model for embedding\n",
    "We will be using the [all-MiniLM-L6-v2](https://huggingface.co/sentence-transformers/all-MiniLM-L6-v2) sentence transformer for our book descriptions. Let's fetch and set the model for our embeddings."
   ]
  },
  {
   "cell_type": "code",
   "execution_count": 1,
   "id": "6ea69122-be79-4bde-a35f-ddd74e0bb7a5",
   "metadata": {},
   "outputs": [
    {
     "name": "stderr",
     "output_type": "stream",
     "text": [
      "/usr/local/lib/python3.9/site-packages/tqdm/auto.py:21: TqdmWarning: IProgress not found. Please update jupyter and ipywidgets. See https://ipywidgets.readthedocs.io/en/stable/user_install.html\n",
      "  from .autonotebook import tqdm as notebook_tqdm\n",
      "/usr/local/lib/python3.9/site-packages/torch/_utils.py:831: UserWarning: TypedStorage is deprecated. It will be removed in the future and UntypedStorage will be the only storage class. This should only matter to you if you are using storages directly.  To access UntypedStorage directly, use tensor.untyped_storage() instead of tensor.storage()\n",
      "  return self.fget.__get__(instance, owner)()\n"
     ]
    }
   ],
   "source": [
    "# Import sentence transformers and set \"all-MiniLM-L6-v2\" as the pretrained model to use\n",
    "from sentence_transformers import SentenceTransformer\n",
    "model_name = \"all-MiniLM-L6-v2\"\n",
    "model = SentenceTransformer(model_name)\n"
   ]
  },
  {
   "cell_type": "markdown",
   "id": "c41a9414-04ae-4314-b8a1-998d12c060bc",
   "metadata": {},
   "source": [
    "### 2. Convert a text field within a JSON object into a vector embedding\n",
    "We'll use the above JSON book object to convert the text description to a vector embedding."
   ]
  },
  {
   "cell_type": "code",
   "execution_count": 41,
   "id": "963e4e14-bf15-4a46-a4fb-4fb43c68689a",
   "metadata": {},
   "outputs": [],
   "source": [
    "# convert the description text to a vector\n",
    "book = {\n",
    "  \"title\": \"Fire In His Spirit\",  \n",
    "  \"author\": \"Ruby Dixon\",  \n",
    "  \"score\": \"3.94\",  \n",
    "  \"votes\": \"2754\",  \n",
    "  \"description\": \"Gwen’s never wanted to be a leader, but when no one else stepped up, she took on the role. As the mayor of post-apocalyptic Shreveport, she’s made decisions to protect her people... and most of them have backfired disastrously. When she discovers that the dangerous gold dragon lurking outside of the fort has decided she’s his mate, heartsick Gwen thinks that the best thing she can do is confront him and take him far away from the city. She does this to save her people - her sister, her friends, her fort. She doesn’t expect to understand the dragon. She certainly doesn’t expect to fall in love.\",\n",
    "  \"year_published\": \"2018\",  \n",
    "  \"url\": \"http://www.goodreads.com/book/show/40790825-fire-in-his-spirit\",  \n",
    "  \"genres\":[\"Romance\",\"Fantasy (Dragons)\",\"Fantasy\",\"Romance (Paranormal Romance)\",\"Fantasy (Paranormal)\",\"Science Fiction\",\"Paranormal (Shapeshifters)\",\"Science Fiction (Aliens)\",\"Science Fiction (Dystopia)\",\"Apocalyptic (Post Apocalyptic)\"],  \n",
    "  \"editions\": [\"English\", \"Japanese\", \"Arabic\", \"French\"],  \n",
    "  \"pages\": 241\n",
    "}\n",
    "\n",
    "book_description = book[\"description\"]\n",
    "embedding = model.encode(book_description).tolist()\n",
    "book[\"embedding\"] = embedding\n"
   ]
  },
  {
   "cell_type": "markdown",
   "id": "b6f817bc-8c07-49d9-a736-5d2278884e85",
   "metadata": {},
   "source": [
    "### 3. Create a schema for indexing JSON objects\n",
    "We'll be using the RedisVL client library to add the above book object to our Redis Vector Database. Let's create a search index before we insert our object. This will require defining a schema of the JSON field names we want to monitor as well as the associated data type. This dictates how we will search our data."
   ]
  },
  {
   "cell_type": "code",
   "execution_count": 42,
   "id": "45c91b69-1b76-43e3-a25d-6ab132cfb24e",
   "metadata": {},
   "outputs": [],
   "source": [
    "# Import RedisVL clinet library\n",
    "from redisvl.index import SearchIndex\n",
    "from redisvl.query import VectorQuery\n",
    "from redisvl.query.filter import Tag\n"
   ]
  },
  {
   "cell_type": "code",
   "execution_count": 43,
   "id": "14c37bbb-1995-4c48-8d11-116ceb423c47",
   "metadata": {},
   "outputs": [],
   "source": [
    "# Create schema for indexing JSON book objects\n",
    "schema = {\n",
    "    \"index\": {\n",
    "        \"name\": \"book_index\",\n",
    "        \"prefix\": \"book\",\n",
    "        \"storage_type\": \"json\",\n",
    "    },\n",
    "    \"fields\": {\n",
    "        \"tag\": [\n",
    "            {\"name\": \"id\"},\n",
    "            {\"name\": \"$.editions[*]\", \"as_name\" : \"editions\"},\n",
    "            {\"name\": \"$.genres[*]\", \"as_name\" : \"genres\"},\n",
    "        ],\n",
    "        \"text\": [\n",
    "            {\"name\": \"$.author\", \"as_name\" : \"author\"},\n",
    "            {\"name\": \"$.description\", \"as_name\": \"description\"},\n",
    "            {\"name\": \"$.title\", \"as_name\" : \"title\"},\n",
    "        ],\n",
    "        \"numeric\": [\n",
    "            {\"name\": \"pages\"},\n",
    "            {\"name\": \"year_published\"},\n",
    "            {\"name\": \"$.votes\", \"as_name\" : \"votes\"},\n",
    "            {\"name\": \"$.score\", \"as_name\" : \"score\"}\n",
    "        ],\n",
    "        \"vector\": [{\n",
    "            \"name\": \"$.embedding\",\n",
    "            \"as_name\": \"embedding\",\n",
    "            \"dims\": 384,\n",
    "            \"distance_metric\": \"cosine\",\n",
    "            \"algorithm\": \"flat\",\n",
    "            \"datatype\": \"float32\"\n",
    "        }]\n",
    "    },\n",
    "}\n",
    "      "
   ]
  },
  {
   "cell_type": "code",
   "execution_count": 44,
   "id": "d2e5f5b3-4816-42b0-8ae7-0e57d83e9e39",
   "metadata": {},
   "outputs": [
    {
     "name": "stdout",
     "output_type": "stream",
     "text": [
      "Index already exists, not overwriting.\n"
     ]
    }
   ],
   "source": [
    "# Create a Vector Index with RedisVL\n",
    "index = SearchIndex.from_dict(\n",
    "    schema, \n",
    "    redis_url=\"redis://localhost:6379\"\n",
    ")\n",
    "index.create(overwrite=False)"
   ]
  },
  {
   "cell_type": "markdown",
   "id": "e3155ff1-b9ae-4ba7-b619-ca9d449e76a3",
   "metadata": {},
   "source": [
    "### Adding a JSON object with a Vector Embedding to Redis\n",
    "Now that the book_index search index has been created, adding new JSON objects to the database will also have them indexed for search. Note that the .load() function accepts an array of objects as an argument. We'll output the new entry's key to verify success."
   ]
  },
  {
   "cell_type": "code",
   "execution_count": 45,
   "id": "2bf1a191-64cd-432a-8f0b-06f726f78296",
   "metadata": {},
   "outputs": [
    {
     "name": "stdout",
     "output_type": "stream",
     "text": [
      "['book:aac60c97ad5443a4bccee7b9fd1386e3']\n"
     ]
    }
   ],
   "source": [
    "new_book = [book]\n",
    "new_book_key = index.load(new_book)\n",
    "\n",
    "print(new_book_key)"
   ]
  },
  {
   "cell_type": "markdown",
   "id": "b076e844-f66b-40f4-882a-fe55459753d5",
   "metadata": {},
   "source": [
    "### Prepare a query embedding for semantic search\n",
    "Now that we've seen how to add a JSON object with a vector embedding into Redis, lets switch to querying our database for results. We will need to convert our query text into an embedding. The approach is similar to our operations on the book description above. We'll output the vector embedding length to verify success."
   ]
  },
  {
   "cell_type": "code",
   "execution_count": 47,
   "id": "6d7431e9-135a-4bea-ab04-dc98d0ffc8f5",
   "metadata": {},
   "outputs": [
    {
     "name": "stdout",
     "output_type": "stream",
     "text": [
      "384\n"
     ]
    }
   ],
   "source": [
    "# Prepare query text as an embedding\n",
    "query_text = \"I want a story with a woman as a main character in a post-apocalyptic world. There should be dragons.\"\n",
    "# tag_filter = Tag(\"genre\") == \"Science Fiction\"\n",
    "\n",
    "embedding_query = model.encode(query_text).tolist()\n",
    "print(len(embedding_query))"
   ]
  },
  {
   "cell_type": "markdown",
   "id": "2224d8b7-b9cd-41f9-b4c2-bdc48f60c8ab",
   "metadata": {},
   "source": [
    "### Create the query object\n",
    "We will create a VectorQuery object in RedisVL which requires the query vector, what vector field to search (embedding), what fields to return, and the total number of results."
   ]
  },
  {
   "cell_type": "code",
   "execution_count": 51,
   "id": "525e4ed6-9777-4059-b470-db384d6c3eb4",
   "metadata": {},
   "outputs": [],
   "source": [
    "# Create a Vector Query Search object with RedisVL. Return the top three results with title, description, and vector distance\n",
    "query = VectorQuery(\n",
    "    vector = embedding_query,\n",
    "    vector_field_name = \"embedding\",\n",
    "    return_fields=[\"author\",\"title\", \"description\", \"genres\"],\n",
    "    num_results=3\n",
    ")"
   ]
  },
  {
   "cell_type": "markdown",
   "id": "ba937420-d74b-408e-bd9f-6bce2885edda",
   "metadata": {},
   "source": [
    "### Execute the Vector Query\n",
    "We run the query function with the VectorQuery object passed in as a parameter. We receive 3 results with our requested fields. Note the included `vector_distance` field. A lower distance represents a closer similarity to the original search query. A higher distance represents less similarity."
   ]
  },
  {
   "cell_type": "code",
   "execution_count": 52,
   "id": "b90f50c6-09c4-41c0-927f-6d54f7d9ec29",
   "metadata": {},
   "outputs": [
    {
     "name": "stdout",
     "output_type": "stream",
     "text": [
      "[ { 'author': 'Marie Brennan',\n",
      "    'description': 'You, dear reader, continue at your own risk. It is not for '\n",
      "                   'the faint of heart—no more so than the study of dragons '\n",
      "                   'itself. But such study offers rewards beyond compare: to '\n",
      "                   \"stand in a dragon's presence, even for the briefest of \"\n",
      "                   \"moments—even at the risk of one's life—is a delight that, \"\n",
      "                   'once experienced, can never be forgotten. . . .All the '\n",
      "                   'world, from Scirland to the farthest reaches of Eriga, '\n",
      "                   \"know Isabella, Lady Trent, to be the world's preeminent \"\n",
      "                   'dragon naturalist. She is the remarkable woman who brought '\n",
      "                   'the study of dragons out of the misty shadows of myth and '\n",
      "                   'misunderstanding into the clear light of modern science. '\n",
      "                   'But before she became the illustrious figure we know '\n",
      "                   'today, there was a bookish young woman whose passion for '\n",
      "                   'learning, natural history, and, yes, dragons defied the '\n",
      "                   'stifling conventions of her day.Here at last, in her own '\n",
      "                   'words, is the true story of a pioneering spirit who risked '\n",
      "                   'her reputation, her prospects, and her fragile flesh and '\n",
      "                   'bone to satisfy her scientific curiosity; of how she '\n",
      "                   'sought true love and happiness despite her lamentable '\n",
      "                   'eccentricities; and of her thrilling expedition to the '\n",
      "                   'perilous mountains of Vystrana, where she made the first '\n",
      "                   'of many historic discoveries that would change the world '\n",
      "                   'forever.',\n",
      "    'genres': 'Fantasy',\n",
      "    'id': 'book:fef194cd3ee049d9ab253d6fdf21f299',\n",
      "    'title': 'A Natural History of Dragons',\n",
      "    'vector_distance': '0.451665520668'},\n",
      "  { 'author': 'Lori Dillon',\n",
      "    'description': \"Being sent back in time to the Middle Ages wouldn't be so \"\n",
      "                   'bad if the knight in shining armor who comes to your '\n",
      "                   \"rescue didn't swoop down in the form of a fire-breathing \"\n",
      "                   \"dragon. Unfortunately for Jill Donahue, that's just the \"\n",
      "                   'way things have been going in her life lately. A Maiden '\n",
      "                   'Wrenched back in time through the magical power of an old '\n",
      "                   'dragon tapestry found in a vintage clothing store, Jill '\n",
      "                   'Donahue lands in an ancient medieval town where the '\n",
      "                   'villagers decide to sacrifice her to the local dragon. As '\n",
      "                   'if the threat of being eaten alive by a giant flying '\n",
      "                   \"lizard isn't bad enough, she learns there’s a curse \"\n",
      "                   'surrounding the tapestry and she has to break it in order '\n",
      "                   \"to get back to her time. But she isn't the only one whose \"\n",
      "                   'fate is tied to the ancient weaving... A Dragon Baelin of '\n",
      "                   'Gosforth is a valiant knight who has been cursed by a '\n",
      "                   'vindictive witch to live as a dragon for eleven months out '\n",
      "                   'of each year. Now he has thirty days to break the curse or '\n",
      "                   'he turns back into a fire-breathing beast and, as much as '\n",
      "                   \"he hates to admit it, he needs Jill's help to do it. And A \"\n",
      "                   'Curse Forced to face many challenges along the way—from '\n",
      "                   'the harsh world they travel through to the fiery passion '\n",
      "                   'they both try to deny—each is determined to break the '\n",
      "                   'curse so the other can get their happily-ever-after. And '\n",
      "                   'it just might work, if Jill can manage to overlook the '\n",
      "                   \"fire-breathing, bat-winged remnants of Baelin's dragon \"\n",
      "                   'half long enough to see the man beneath the beast and get '\n",
      "                   'the job done.',\n",
      "    'genres': 'Science Fiction (Time Travel) ',\n",
      "    'id': 'book:cb47e61cf6e94c0fb16c8724b43e4250',\n",
      "    'title': 'Fire of the Dragon',\n",
      "    'vector_distance': '0.473099887371'},\n",
      "  { 'author': 'Anne McCaffrey',\n",
      "    'description': 'HOW CAN ONE GIRL SAVE AN ENTIRE WORLD?To the nobles who '\n",
      "                   'live in Benden Weyr, Lessa is nothing but a ragged kitchen '\n",
      "                   'girl. For most of her life she has survived by serving '\n",
      "                   'those who betrayed her father and took over his lands. Now '\n",
      "                   'the time has come for Lessa to shed her disguise—and take '\n",
      "                   'back her stolen birthright. But everything changes when '\n",
      "                   'she meets a queen dragon. The bond they share will be deep '\n",
      "                   'and last forever. It will protect them when, for the first '\n",
      "                   'time in centuries, Lessa’s world is threatened by Thread, '\n",
      "                   'an evil substance that falls like rain and destroys '\n",
      "                   'everything it touches. Dragons and their Riders once '\n",
      "                   'protected the planet from Thread, but there are very few '\n",
      "                   'of them left these days. Now brave Lessa must risk her '\n",
      "                   'life, and the life of her beloved dragon, to save her '\n",
      "                   'beautiful world. . . .',\n",
      "    'genres': 'Fantasy',\n",
      "    'id': 'book:eb2ad33449cf47c1a2edb9656c75e131',\n",
      "    'title': 'Dragonflight',\n",
      "    'vector_distance': '0.490249216557'}]\n"
     ]
    }
   ],
   "source": [
    "# Execute the Vector Query\n",
    "import pprint\n",
    "pp = pprint.PrettyPrinter(indent=2)\n",
    "\n",
    "results = index.query(query)\n",
    "pp.pprint(results)"
   ]
  },
  {
   "cell_type": "code",
   "execution_count": null,
   "id": "dcd725c1-8546-4182-af45-330f03240970",
   "metadata": {},
   "outputs": [],
   "source": []
  },
  {
   "cell_type": "code",
   "execution_count": null,
   "id": "5e59375c-e77d-4294-b877-ae25edc404fb",
   "metadata": {},
   "outputs": [],
   "source": []
  }
 ],
 "metadata": {
  "kernelspec": {
   "display_name": "Python 3 (ipykernel)",
   "language": "python",
   "name": "python3"
  },
  "language_info": {
   "codemirror_mode": {
    "name": "ipython",
    "version": 3
   },
   "file_extension": ".py",
   "mimetype": "text/x-python",
   "name": "python",
   "nbconvert_exporter": "python",
   "pygments_lexer": "ipython3",
   "version": "3.9.18"
  }
 },
 "nbformat": 4,
 "nbformat_minor": 5
}
